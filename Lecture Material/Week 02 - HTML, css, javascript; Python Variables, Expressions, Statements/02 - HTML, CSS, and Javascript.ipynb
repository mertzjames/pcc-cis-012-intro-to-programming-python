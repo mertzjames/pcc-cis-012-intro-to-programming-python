{
 "cells": [
  {
   "cell_type": "markdown",
   "metadata": {
    "slideshow": {
     "slide_type": "slide"
    }
   },
   "source": [
    "# HTML, CSS, and Javascript\n"
   ]
  },
  {
   "cell_type": "markdown",
   "metadata": {
    "slideshow": {
     "slide_type": "slide"
    }
   },
   "source": [
    "## What you'll learn in today's lesson (learning goals)\n",
    "\n",
    "1. The definition of HTML, CSS, and Javascript.\n",
    "1. HTML basic tags and how to use them.\n",
    "1. How to create a basic webpage with body, paragraph, and link tags.\n",
    "1. How to create a basic style for websites using css.\n",
    "1. How to add programmatic behavior to your website using javascript.\n"
   ]
  },
  {
   "cell_type": "markdown",
   "metadata": {
    "slideshow": {
     "slide_type": "slide"
    }
   },
   "source": [
    "## What is HTML, CSS, and Javascript?\n",
    "\n",
    "- **HyperText Markup Language (HTML):** The static structure or layout.\n",
    "    - Not a programming language.\n",
    "- **Cascading Style Sheets (CSS):** The static style for the HTML.\n",
    "    - Not a programming language.\n",
    "- **Javascript (js):** The dynamic changes.  Can alter the static content and many other things.\n",
    "    - Is a programming language.\n",
    "\n"
   ]
  },
  {
   "cell_type": "markdown",
   "metadata": {
    "slideshow": {
     "slide_type": "slide"
    }
   },
   "source": [
    "## HTML\n",
    "\n",
    "![](static/morty_html.jpg)"
   ]
  },
  {
   "cell_type": "markdown",
   "metadata": {
    "slideshow": {
     "slide_type": "subslide"
    }
   },
   "source": [
    "## HTML\n",
    "\n",
    "- **Markup Language:** A language used for annotating a document for later stylistic display.\n",
    "    - Another common markup language is 'markdown'.\n",
    "- Consists of elements that are _marked_ with 'tags'.\n",
    "\n",
    "**Example:**"
   ]
  },
  {
   "cell_type": "code",
   "execution_count": 1,
   "metadata": {},
   "outputs": [
    {
     "data": {
      "text/html": [
       "\n",
       "<body>\n",
       "<h1>Mantra</h1>\n",
       "<p><blockquote>There are no winners or losers in the race of life; <br>\n",
       "only finishers and quitters</blockquote></p>\n"
      ],
      "text/plain": [
       "<IPython.core.display.HTML object>"
      ]
     },
     "metadata": {},
     "output_type": "display_data"
    }
   ],
   "source": [
    "%%html\n",
    "\n",
    "<body>\n",
    "<h1>Mantra</h1>\n",
    "<p><blockquote>There are no winners or losers in the race of life; <br>\n",
    "only finishers and quitters</blockquote></p>"
   ]
  },
  {
   "cell_type": "markdown",
   "metadata": {
    "slideshow": {
     "slide_type": "subslide"
    }
   },
   "source": [
    "### HTML Elements Structure\n",
    "\n",
    "<p>\n",
    "<figure class=\"image\">\n",
    "    <img src=\"https://media.prod.mdn.mozit.cloud/attachments/2014/11/14/9347/c07aa313dbdd667585430f4eca354dbd/grumpy-cat-small.png\" alt=\"HTML Element Structure\">\n",
    "    <center><figcaption><i><b>Source:</b> MDN web docs by Mozilla</i></figcaption></center>\n",
    "</figure>\n",
    "</p>\n",
    "\n",
    "- **Opening Tag:** the name of the element (often times abbreviations) wrapped in opening and closed angle brackets.\n",
    "- **Closing Tag:** the name of the element (same as closing) wrapped in opening and closed angle brackets but a forward slash in between the opening angle bracket and element name.\n",
    "- **Content:** The content of the element (most time text)."
   ]
  },
  {
   "cell_type": "markdown",
   "metadata": {
    "slideshow": {
     "slide_type": "subslide"
    }
   },
   "source": [
    "### Common Element Tags \n",
    "\n",
    "| Element Tag | Description                                                                 |\n",
    "| :---------- | :-------------------------------------------------------------------------- |\n",
    "| `title`     | Defines the document's title that is shown in the browser's title bar.      |\n",
    "| `body`      | The content of the document.  Can only be one.                              |\n",
    "| `h1` - `h6` | Multi-level heading for a section of a document.                            |\n",
    "| `main`      | The dominant content of the `body` element of the document.                 |\n",
    "| `div`       | Generic container for flow of content.                                      |\n",
    "| `a`         | An anchor element (commonly used with the `href` attr to create hyperlinks. |\n",
    "| `em`        | Marks text as emphasis.                                                     |\n",
    "| `i`         | Marks text as different (italics).                                          |\n",
    "| `b`         | Marks test as bold.                                                         |\n",
    "| `img`       | Embed an image.                                                             |\n",
    "\n",
    "See also: https://developer.mozilla.org/en-US/docs/Web/HTML/Element"
   ]
  },
  {
   "cell_type": "markdown",
   "metadata": {
    "slideshow": {
     "slide_type": "subslide"
    }
   },
   "source": [
    "### In-Class Exercise: Combining Tags To Make a Web Page\n",
    "\n",
    "We're going to make our own website real quick (completed version can be found in the `examples` folder)."
   ]
  },
  {
   "cell_type": "markdown",
   "metadata": {
    "slideshow": {
     "slide_type": "slide"
    }
   },
   "source": [
    "## Styling Using CSS\n",
    "\n",
    "![](static/css_funny.jpg)"
   ]
  },
  {
   "cell_type": "markdown",
   "metadata": {
    "slideshow": {
     "slide_type": "subslide"
    }
   },
   "source": [
    "## CSS\n",
    "\n",
    "- **Cascading Syle Sheets:** Used to style your webpage.\n",
    "- Think of it as a shortcut to common attribute values.\n",
    "\n",
    "### Example"
   ]
  },
  {
   "cell_type": "code",
   "execution_count": 2,
   "metadata": {},
   "outputs": [
    {
     "data": {
      "text/html": [
       "p {\n",
       "    color: red;\n",
       "}\n"
      ],
      "text/plain": [
       "<IPython.core.display.HTML object>"
      ]
     },
     "metadata": {},
     "output_type": "display_data"
    }
   ],
   "source": [
    "%%html\n",
    "p {\n",
    "    color: red;\n",
    "}"
   ]
  },
  {
   "cell_type": "markdown",
   "metadata": {
    "slideshow": {
     "slide_type": "subslide"
    }
   },
   "source": [
    "### Elements of a CSS Ruleset\n",
    "\n",
    "<p>\n",
    "<figure class=\"image\">\n",
    "    <img src=\"https://media.prod.mdn.mozit.cloud/attachments/2014/11/18/9461/012655e623bef579c9bd376e227bc648/css-declaration-small.png\" alt=\"HTML Element Structure\" width=\"600\">\n",
    "    <center><figcaption><i><b>Source:</b> MDN web docs by Mozilla</i></figcaption></center>\n",
    "</figure>\n",
    "</p>\n",
    "\n",
    "- **Selector:** The HTML element that you want to style.\n",
    "- **Property:** The selected \"attribute\" you want to style.\n",
    "- **Preperty Value:** The \"value\" of the attribute you want to style."
   ]
  },
  {
   "cell_type": "markdown",
   "metadata": {
    "slideshow": {
     "slide_type": "subslide"
    }
   },
   "source": [
    "### In-Class Exercise: Adding A Little Flair to Our Site\n",
    "\n",
    "Let's style up our site that we've been working on."
   ]
  },
  {
   "cell_type": "markdown",
   "metadata": {
    "slideshow": {
     "slide_type": "subslide"
    }
   },
   "source": [
    "### A little advice:\n",
    "\n",
    "Just use [Bootstrap](https://getbootstrap.com/) for all your styling needs."
   ]
  },
  {
   "cell_type": "markdown",
   "metadata": {
    "slideshow": {
     "slide_type": "slide"
    }
   },
   "source": [
    "## Programmatic Behavior Using Javascript\n",
    "\n",
    "![](http://devhumor.com/content/uploads/images/August2019/js.png)"
   ]
  },
  {
   "cell_type": "markdown",
   "metadata": {
    "slideshow": {
     "slide_type": "subslide"
    }
   },
   "source": [
    "### No Seriously, It's Really Weird:\n",
    "\n",
    "Every language has it's peculiarities...\n",
    "\n",
    "https://www.destroyallsoftware.com/talks/wat"
   ]
  },
  {
   "cell_type": "markdown",
   "metadata": {
    "slideshow": {
     "slide_type": "subslide"
    }
   },
   "source": [
    "### Even Python ...\n",
    "\n",
    "    >>> a = 1\n",
    "    >>> b = 1\n",
    "    >>> a is b\n",
    "    True\n",
    "    >>> a = 9537\n",
    "    >>> b = 9537\n",
    "    >>> a is b\n",
    "    False"
   ]
  },
  {
   "cell_type": "markdown",
   "metadata": {
    "slideshow": {
     "slide_type": "subslide"
    }
   },
   "source": [
    "### JS\n",
    "\n",
    "- **Javascript:** A full-fledged dynamic programming language typically applied to HTML documents.\n",
    "- allows for dynamic changes to your websites."
   ]
  },
  {
   "cell_type": "code",
   "execution_count": 3,
   "metadata": {},
   "outputs": [
    {
     "data": {
      "application/javascript": [
       "\n",
       "window.alert(\"Hello World!\");\n"
      ],
      "text/plain": [
       "<IPython.core.display.Javascript object>"
      ]
     },
     "metadata": {},
     "output_type": "display_data"
    }
   ],
   "source": [
    "%%javascript\n",
    "\n",
    "window.alert(\"Hello World!\");"
   ]
  },
  {
   "cell_type": "markdown",
   "metadata": {
    "slideshow": {
     "slide_type": "subslide"
    }
   },
   "source": [
    "### In-Class Exercise: Adding some dynamic behavior to our website"
   ]
  },
  {
   "cell_type": "markdown",
   "metadata": {
    "slideshow": {
     "slide_type": "slide"
    }
   },
   "source": [
    "## Assignment\n",
    "\n",
    "You're going to create a web page about yourself with the following elements:\n",
    "\n",
    "- At least 5 pages with some sort of navigation to and from each page\n",
    "- Usage of at least the following tags:\n",
    "    - `<a>`\n",
    "    - `<p>`\n",
    "    - `<body>`\n",
    "- At least one link to another external website\n",
    "- Try to use as many different tags as you can (shoot for at least 20)"
   ]
  },
  {
   "cell_type": "markdown",
   "metadata": {
    "slideshow": {
     "slide_type": "slide"
    }
   },
   "source": [
    "# References\n",
    "\n",
    "- https://developer.mozilla.org/en-US/docs/Learn/Getting_started_with_the_web/HTML_basics\n",
    "- https://developer.mozilla.org/en-US/docs/Learn/Getting_started_with_the_web/CSS_basics"
   ]
  }
 ],
 "metadata": {
  "celltoolbar": "Slideshow",
  "kernelspec": {
   "display_name": "Python 3",
   "language": "python",
   "name": "python3"
  },
  "language_info": {
   "codemirror_mode": {
    "name": "ipython",
    "version": 3
   },
   "file_extension": ".py",
   "mimetype": "text/x-python",
   "name": "python",
   "nbconvert_exporter": "python",
   "pygments_lexer": "ipython3",
   "version": "3.6.8"
  }
 },
 "nbformat": 4,
 "nbformat_minor": 4
}
